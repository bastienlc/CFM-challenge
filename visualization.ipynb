{
 "cells": [
  {
   "cell_type": "code",
   "execution_count": null,
   "metadata": {},
   "outputs": [],
   "source": [
    "import numpy as np\n",
    "import matplotlib.pyplot as plt\n",
    "\n",
    "from src.load import load_data\n",
    "\n",
    "X, y, X_test = load_data()"
   ]
  },
  {
   "cell_type": "code",
   "execution_count": null,
   "metadata": {},
   "outputs": [],
   "source": [
    "def plot_sample(features, label, name=\"train\"):\n",
    "    fig, ax = plt.subplots(ncols=2, figsize=(8, 4))\n",
    "    ax[0].plot(features[:, 5], label=\"bid\")\n",
    "    ax[0].plot(features[:, 6], label=\"ask\")\n",
    "    ax[0].scatter(np.arange(100), features[:, 4], label=\"price\", s=1, color=\"black\")\n",
    "    ax[0].set_ylim(np.min(features[:, 5]) - 0.05, np.max(features[:, 6]) + 0.05)\n",
    "    ax[0].legend()\n",
    "\n",
    "    ax[1].plot(features[:, 7], label=\"bid_size\")\n",
    "    ax[1].plot(features[:, 8], label=\"ask_size\")\n",
    "    cumulated_flux = np.cumsum(features[:, 10])\n",
    "    ax[1].plot(cumulated_flux, label=\"cumulated_flux\")\n",
    "    ax[1].legend()\n",
    "\n",
    "    plt.suptitle(f\"label : {label} ({name})\")\n",
    "    fig.tight_layout()"
   ]
  },
  {
   "cell_type": "code",
   "execution_count": null,
   "metadata": {},
   "outputs": [],
   "source": [
    "for i in range(50):\n",
    "    plot_sample(X[i], y[i])"
   ]
  }
 ],
 "metadata": {
  "kernelspec": {
   "display_name": "torch",
   "language": "python",
   "name": "python3"
  },
  "language_info": {
   "codemirror_mode": {
    "name": "ipython",
    "version": 3
   },
   "file_extension": ".py",
   "mimetype": "text/x-python",
   "name": "python",
   "nbconvert_exporter": "python",
   "pygments_lexer": "ipython3",
   "version": "3.10.13"
  }
 },
 "nbformat": 4,
 "nbformat_minor": 2
}

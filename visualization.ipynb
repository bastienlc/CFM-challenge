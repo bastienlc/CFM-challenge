{
 "cells": [
  {
   "cell_type": "code",
   "execution_count": null,
   "metadata": {},
   "outputs": [],
   "source": [
    "import numpy as np\n",
    "import matplotlib.pyplot as plt\n",
    "\n",
    "from src.load import load_data\n",
    "\n",
    "X, y, X_test = load_data(normalize=True, filter=True)\n",
    "features = [\n",
    "    \"venue\",\n",
    "    \"order_id\",\n",
    "    \"action\",\n",
    "    \"side\",\n",
    "    \"price\",\n",
    "    \"bid\",\n",
    "    \"ask\",\n",
    "    \"bid_size\",\n",
    "    \"ask_size\",\n",
    "    \"trade\",\n",
    "    \"flux\",\n",
    "]"
   ]
  },
  {
   "cell_type": "code",
   "execution_count": null,
   "metadata": {},
   "outputs": [],
   "source": [
    "print(X.shape, y.shape)"
   ]
  },
  {
   "cell_type": "code",
   "execution_count": null,
   "metadata": {},
   "outputs": [],
   "source": [
    "def plot_sample(features, label, name=\"train\"):\n",
    "    fig, ax = plt.subplots(ncols=2, figsize=(8, 4))\n",
    "    ax[0].plot(features[:, 5], label=\"bid\")\n",
    "    ax[0].plot(features[:, 6], label=\"ask\")\n",
    "    ax[0].scatter(np.arange(100), features[:, 4], label=\"price\", s=1, color=\"black\")\n",
    "    ax[0].set_ylim(np.min(features[:, 5]) - 0.01, np.max(features[:, 6]) + 0.01)\n",
    "    ax[0].legend()\n",
    "\n",
    "    ax[1].plot(features[:, 7], label=\"bid_size\")\n",
    "    ax[1].plot(features[:, 8], label=\"ask_size\")\n",
    "    cumulated_flux = np.cumsum(features[:, 10])\n",
    "    ax[1].plot(cumulated_flux, label=\"cumulated_flux\")\n",
    "    ax[1].legend()\n",
    "\n",
    "    plt.suptitle(f\"label : {label} ({name})\")\n",
    "    fig.tight_layout()"
   ]
  },
  {
   "cell_type": "code",
   "execution_count": null,
   "metadata": {},
   "outputs": [],
   "source": [
    "for i in range(10):\n",
    "    plot_sample(X[i], y[i])"
   ]
  },
  {
   "cell_type": "code",
   "execution_count": null,
   "metadata": {},
   "outputs": [],
   "source": [
    "# Distributions between train and test\n",
    "\n",
    "nb_features = len(features)\n",
    "nb_cols = 3\n",
    "nb_rows = nb_features // nb_cols + 1\n",
    "\n",
    "figs, axs = plt.subplots(nb_rows, nb_cols, figsize=(20, 4 * nb_rows))\n",
    "\n",
    "for i, col in enumerate(features):\n",
    "    axs[i // nb_cols, i % nb_cols].boxplot(\n",
    "        [X[:, :, i].reshape(-1), X_test[:, :, i].reshape(-1)],\n",
    "        labels=[\"Train\", \"Test\"],\n",
    "        meanline=True,\n",
    "        showmeans=True,\n",
    "    )\n",
    "    axs[i // nb_cols, i % nb_cols].set_title(col)\n",
    "\n",
    "plt.show()"
   ]
  },
  {
   "cell_type": "code",
   "execution_count": null,
   "metadata": {},
   "outputs": [],
   "source": [
    "# Distributions between labels\n",
    "\n",
    "nb_features = len(features)\n",
    "nb_cols = 2\n",
    "nb_rows = nb_features // nb_cols + 1\n",
    "\n",
    "figs, axs = plt.subplots(nb_rows, nb_cols, figsize=(20, 4 * nb_rows))\n",
    "for i, col in enumerate(features):\n",
    "    data = [X[y == j][:, :, i].reshape(-1) for j in range(24)]\n",
    "\n",
    "    axs[i // nb_cols, i % nb_cols].boxplot(\n",
    "        data,\n",
    "        labels=range(24),\n",
    "        meanline=True,\n",
    "        showmeans=True,\n",
    "    )\n",
    "    axs[i // nb_cols, i % nb_cols].set_title(col)\n",
    "\n",
    "plt.show()"
   ]
  }
 ],
 "metadata": {
  "kernelspec": {
   "display_name": "torch",
   "language": "python",
   "name": "python3"
  },
  "language_info": {
   "codemirror_mode": {
    "name": "ipython",
    "version": 3
   },
   "file_extension": ".py",
   "mimetype": "text/x-python",
   "name": "python",
   "nbconvert_exporter": "python",
   "pygments_lexer": "ipython3",
   "version": "3.10.13"
  }
 },
 "nbformat": 4,
 "nbformat_minor": 2
}

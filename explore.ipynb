{
 "cells": [
  {
   "cell_type": "code",
   "execution_count": 1,
   "metadata": {},
   "outputs": [],
   "source": [
    "from src.load import load_data\n",
    "\n",
    "%load_ext autoreload\n",
    "%autoreload 2"
   ]
  },
  {
   "cell_type": "code",
   "execution_count": 2,
   "metadata": {},
   "outputs": [
    {
     "name": "stdout",
     "output_type": "stream",
     "text": [
      "Loading data...\n",
      "Adding basic features...\n",
      "Encoding data...\n",
      "Removing extreme values... (> 3 ticks)\n",
      "    [Train set] Filtering out of range prices: 7810706 rows removed over 16080000 rows (48.57%)\n",
      "    [Test set] Filtering out of range prices: 3905944 rows removed over 8160000 rows (47.87%)\n",
      "Normalizing data...(SKIPPED)\n",
      "Converting to numpy arrays...\n"
     ]
    }
   ],
   "source": [
    "X, X_obs, y, X_test, X_test_obs, features = load_data()"
   ]
  },
  {
   "cell_type": "code",
   "execution_count": 3,
   "metadata": {},
   "outputs": [
    {
     "data": {
      "text/plain": [
       "array([0, 0, 0, ..., 160799, 160799, 160799], dtype=object)"
      ]
     },
     "execution_count": 3,
     "metadata": {},
     "output_type": "execute_result"
    }
   ],
   "source": [
    "X_obs"
   ]
  },
  {
   "cell_type": "code",
   "execution_count": 42,
   "metadata": {},
   "outputs": [
    {
     "name": "stderr",
     "output_type": "stream",
     "text": [
      "c:\\Users\\ezzeh\\AppData\\Local\\Programs\\Python\\Python311\\Lib\\site-packages\\tqdm\\auto.py:21: TqdmWarning: IProgress not found. Please update jupyter and ipywidgets. See https://ipywidgets.readthedocs.io/en/stable/user_install.html\n",
      "  from .autonotebook import tqdm as notebook_tqdm\n"
     ]
    }
   ],
   "source": [
    "import torch\n",
    "import os\n",
    "from tqdm import tqdm\n",
    "import numpy as np\n",
    "import networkx as nx\n",
    "from torch_geometric.utils.convert import from_scipy_sparse_matrix"
   ]
  },
  {
   "cell_type": "code",
   "execution_count": 16,
   "metadata": {},
   "outputs": [],
   "source": [
    "index = np.array(list(set(X_obs)))\n",
    "split = \"train\""
   ]
  },
  {
   "cell_type": "code",
   "execution_count": null,
   "metadata": {},
   "outputs": [],
   "source": [
    "for i in tqdm(index, desc=\"Processing data\", leave=False):\n",
    "    if split == \"train\" or split == \"val\":\n",
    "        label = torch.tensor(y[i], dtype=torch.long)\n",
    "    else:\n",
    "        label = torch.tensor(-1, dtype=torch.long)"
   ]
  },
  {
   "cell_type": "code",
   "execution_count": null,
   "metadata": {},
   "outputs": [],
   "source": [
    "i = 0\n",
    "\n",
    "graph = nx.Graph()"
   ]
  },
  {
   "cell_type": "code",
   "execution_count": 18,
   "metadata": {},
   "outputs": [
    {
     "data": {
      "text/plain": [
       "array(['venue', 'order_id', 'action', 'side', 'price', 'bid', 'ask',\n",
       "       'bid_size', 'ask_size', 'trade', 'flux', 'bid_ask_spread',\n",
       "       'Limit Order'], dtype=object)"
      ]
     },
     "execution_count": 18,
     "metadata": {},
     "output_type": "execute_result"
    }
   ],
   "source": [
    "features"
   ]
  },
  {
   "cell_type": "code",
   "execution_count": 24,
   "metadata": {},
   "outputs": [],
   "source": [
    "node_features = np.array([\"bid_ask_spread\", \"side\", \"price\", \"bid_size\", \"ask_size\", \"venue\", \"flux\"])"
   ]
  },
  {
   "cell_type": "code",
   "execution_count": 26,
   "metadata": {},
   "outputs": [
    {
     "data": {
      "text/plain": [
       "[11, 3, 4, 7, 8, 0, 10]"
      ]
     },
     "execution_count": 26,
     "metadata": {},
     "output_type": "execute_result"
    }
   ],
   "source": [
    "# indices where the node features are located in the feature vector\n",
    "node_features_indices = [np.where(features == node_feature)[0][0] for node_feature in node_features]\n",
    "node_features_indices"
   ]
  },
  {
   "cell_type": "code",
   "execution_count": 29,
   "metadata": {},
   "outputs": [
    {
     "data": {
      "text/plain": [
       "(8269294, 13)"
      ]
     },
     "execution_count": 29,
     "metadata": {},
     "output_type": "execute_result"
    }
   ],
   "source": [
    "X.shape"
   ]
  },
  {
   "cell_type": "code",
   "execution_count": 31,
   "metadata": {},
   "outputs": [],
   "source": [
    "i = 0\n",
    "\n",
    "graph = nx.Graph()\n",
    "node_features = [\"bid_ask_spread\", \"side\", \"price\", \"bid_size\", \"ask_size\", \"venue\", \"flux\"]\n",
    "node_features_indices = [np.where(features == node_feature)[0][0] for node_feature in node_features]\n",
    "\n",
    "curr_X = X[X_obs == i]\n",
    "node_arr = torch.zeros((len(curr_X), len(node_features)), dtype=torch.float32)\n",
    "venues_previous_keys = {}\n",
    "order_ids_keys = {}\n",
    "for k, row in enumerate(curr_X):\n",
    "    order_id = row[1]\n",
    "    venue = row[0]\n",
    "\n",
    "    graph.add_node(k)\n",
    "    node_arr[k, :] = torch.tensor(\n",
    "        [row[j] for j in node_features_indices],\n",
    "        dtype=torch.float32,\n",
    "    )"
   ]
  },
  {
   "cell_type": "code",
   "execution_count": 43,
   "metadata": {},
   "outputs": [],
   "source": [
    "i = 0\n",
    "\n",
    "graph = nx.Graph()\n",
    "node_features = np.array([\"bid_ask_spread\", \"side\", \"price\", \"bid_size\", \"ask_size\", \"venue\", \"flux\"])\n",
    "node_features_indices = [np.where(features == node_feature)[0][0] for node_feature in node_features]\n",
    "\n",
    "edge_temp_features = np.array([\"trade\", \"Limit Order\"])\n",
    "edge_temp_features_indices = [np.where(features == edge_feature)[0][0] for edge_feature in edge_temp_features]\n",
    "\n",
    "edge_id_features = np.array([\"trade\", \"Limit Order\"])\n",
    "edge_id_features_indices = [np.where(features == edge_feature)[0][0] for edge_feature in edge_id_features]\n",
    "\n",
    "curr_X = X[X_obs == i]\n",
    "node_arr = torch.zeros((len(curr_X), len(node_features)), dtype=torch.float32)\n",
    "venues_previous_keys = {}\n",
    "order_ids_keys = {}\n",
    "for k, row in enumerate(curr_X):\n",
    "    order_id = row[1]\n",
    "    venue = row[0]\n",
    "\n",
    "    graph.add_node(k)\n",
    "    node_arr[k, :] = torch.tensor(\n",
    "        [row[j] for j in node_features_indices],\n",
    "        dtype=torch.float32,\n",
    "    )\n",
    "    temp_attr = torch.tensor(\n",
    "        [row[j] for j in edge_temp_features_indices],\n",
    "        dtype=torch.int,\n",
    "    )\n",
    "    graph.add_edge(k, k-1, edge_attr=temp_attr) # Temporal edge\n",
    "\n",
    "    id_attr = torch.tensor(\n",
    "        [row[j] for j in edge_id_features_indices],\n",
    "        dtype=torch.int,\n",
    "    )\n",
    "\n",
    "    if order_id in order_ids_keys:\n",
    "        graph.add_edge(k, order_ids_keys[order_id][-1], edge_attr=id_attr)\n",
    "        order_ids_keys[order_id].append(k)\n",
    "    else:\n",
    "        order_ids_keys[order_id] = [k]\n",
    "\n",
    "edge_index, _ = from_scipy_sparse_matrix(nx.adjacency_matrix(graph))"
   ]
  },
  {
   "cell_type": "code",
   "execution_count": null,
   "metadata": {},
   "outputs": [],
   "source": [
    "for i in tqdm(index, desc=\"Processing data\", leave=False):\n",
    "    if split == \"train\" or split == \"val\":\n",
    "        label = torch.tensor(y[i], dtype=torch.long)\n",
    "    else:\n",
    "        label = torch.tensor(-1, dtype=torch.long)\n",
    "\n",
    "    graph = nx.Graph()\n",
    "    node_features = torch.zeros((len(X[i]), 7), dtype=torch.float32)\n",
    "    venues_previous_keys = {}\n",
    "    order_ids_keys = {}\n",
    "    for k, row in enumerate(X[i]):\n",
    "        order_id = row[1]\n",
    "        venue = row[0]\n",
    "\n",
    "        graph.add_node(k)\n",
    "        node_features[k, :] = torch.tensor(\n",
    "            [venue, k, row[4], row[6] - row[5], row[7], row[8], row[10]],\n",
    "            dtype=torch.float32,\n",
    "        )\n",
    "        attr = torch.tensor(\n",
    "            [row[2] == 0, row[2] == 1, row[2] == 2, row[3], row[9]],\n",
    "            dtype=torch.int,\n",
    "        ) # edge features\n",
    "\n",
    "        if venue in venues_previous_keys:\n",
    "            graph.add_edge(k, venues_previous_keys[venue], edge_attr=attr)\n",
    "        venues_previous_keys[venue] = k\n",
    "\n",
    "        if order_id in order_ids_keys:\n",
    "            graph.add_edge(k, order_ids_keys[order_id][-1], edge_attr=attr)\n",
    "            order_ids_keys[order_id].append(k)\n",
    "        else:\n",
    "            order_ids_keys[order_id] = [k]\n",
    "\n",
    "    edge_index, _ = from_scipy_sparse_matrix(nx.adjacency_matrix(graph))\n",
    "\n",
    "    torch.save(\n",
    "        Data(\n",
    "            edge_index=edge_index,\n",
    "            x=node_features,\n",
    "            edge_attr=torch.stack(\n",
    "                list(nx.get_edge_attributes(graph, \"edge_attr\").values())\n",
    "            ).repeat_interleave(2, dim=0),\n",
    "            y=label,\n",
    "        ),\n",
    "        os.path.join(self.processed_dir, f\"{i}.pt\"),\n",
    "    )\n"
   ]
  }
 ],
 "metadata": {
  "kernelspec": {
   "display_name": "Python 3",
   "language": "python",
   "name": "python3"
  },
  "language_info": {
   "codemirror_mode": {
    "name": "ipython",
    "version": 3
   },
   "file_extension": ".py",
   "mimetype": "text/x-python",
   "name": "python",
   "nbconvert_exporter": "python",
   "pygments_lexer": "ipython3",
   "version": "3.11.6"
  }
 },
 "nbformat": 4,
 "nbformat_minor": 2
}
